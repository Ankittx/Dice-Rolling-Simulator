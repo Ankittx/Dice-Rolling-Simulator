{
 "cells": [
  {
   "cell_type": "code",
   "execution_count": 1,
   "metadata": {},
   "outputs": [
    {
     "name": "stdout",
     "output_type": "stream",
     "text": [
      "Ready to roll?. ENTER = Roll. Q=Quit\n",
      "you rolled a 4\n",
      "Ready to roll?. ENTER = Roll. Q=Quit\n",
      "you rolled a 1\n",
      "Ready to roll?. ENTER = Roll. Q=Quit\n",
      "you rolled a 6\n",
      "Ready to roll?. ENTER = Roll. Q=Quit\n",
      "you rolled a 3\n",
      "Ready to roll?. ENTER = Roll. Q=Quit\n",
      "you rolled a 2\n",
      "Ready to roll?. ENTER = Roll. Q=Quitq\n",
      "Thanks for playing\n"
     ]
    }
   ],
   "source": [
    "import random\n",
    "def roll(sides):\n",
    "    num_rolled = random.randint(1,sides)\n",
    "    return num_rolled\n",
    "\n",
    "if __name__ == \"__main__\":\n",
    "    sides = 6\n",
    "    rolling = True\n",
    "    while rolling:\n",
    "        roll_again = input(\"Ready to roll?. ENTER = Roll. Q=Quit\")\n",
    "        if roll_again.lower() != 'q':\n",
    "            num_rolled = roll(sides)\n",
    "            print(\"you rolled a\",num_rolled)\n",
    "        else:\n",
    "            rolling = False\n",
    "    print(\"Thanks for playing\")"
   ]
  },
  {
   "cell_type": "code",
   "execution_count": null,
   "metadata": {},
   "outputs": [],
   "source": []
  }
 ],
 "metadata": {
  "kernelspec": {
   "display_name": "Python 3",
   "language": "python",
   "name": "python3"
  },
  "language_info": {
   "codemirror_mode": {
    "name": "ipython",
    "version": 3
   },
   "file_extension": ".py",
   "mimetype": "text/x-python",
   "name": "python",
   "nbconvert_exporter": "python",
   "pygments_lexer": "ipython3",
   "version": "3.7.3"
  }
 },
 "nbformat": 4,
 "nbformat_minor": 2
}
